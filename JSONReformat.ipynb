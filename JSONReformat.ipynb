{
 "cells": [
  {
   "cell_type": "markdown",
   "metadata": {},
   "source": [
    "# Code Reformats JSON file, wine-ratings.json \n",
    "# to only have red wine from Italy with a rating \n",
    "# between 90-92"
   ]
  },
  {
   "cell_type": "code",
   "execution_count": 7,
   "metadata": {},
   "outputs": [],
   "source": [
    "import json\n",
    "import os"
   ]
  },
  {
   "cell_type": "code",
   "execution_count": 116,
   "metadata": {},
   "outputs": [
    {
     "data": {
      "text/plain": [
       "True"
      ]
     },
     "execution_count": 116,
     "metadata": {},
     "output_type": "execute_result"
    }
   ],
   "source": [
    "os.path.exists('sample_data')"
   ]
  },
  {
   "cell_type": "code",
   "execution_count": 12,
   "metadata": {},
   "outputs": [],
   "source": [
    "with open('sample_data/wine-ratings.json') as f:\n",
    "    loaded_json = json.load(f)"
   ]
  },
  {
   "cell_type": "code",
   "execution_count": 97,
   "metadata": {},
   "outputs": [
    {
     "data": {
      "text/plain": [
       "dict_keys(['name', 'grape', 'region', 'variety', 'rating', 'notes'])"
      ]
     },
     "execution_count": 97,
     "metadata": {},
     "output_type": "execute_result"
    }
   ],
   "source": [
    "loaded_json.keys()"
   ]
  },
  {
   "cell_type": "code",
   "execution_count": 81,
   "metadata": {},
   "outputs": [
    {
     "name": "stdout",
     "output_type": "stream",
     "text": [
      "True\n"
     ]
    }
   ],
   "source": [
    "index = list(loaded_json['variety'].keys())\n",
    "variety = list(loaded_json['variety'].values())\n",
    "rating = list(loaded_json['rating'].values())\n",
    "region = list(loaded_json['region'].values())"
   ]
  },
  {
   "cell_type": "code",
   "execution_count": 85,
   "metadata": {},
   "outputs": [],
   "source": [
    "field_check = zip(index, variety, rating, region)\n",
    "index_list = []\n",
    "for elem in field_check:\n",
    "    if elem[1] == None:\n",
    "        continue\n",
    "    if 'Red' in elem[1] and int(elem[2]) in range(90,93) and 'Italy' in elem[3]:\n",
    "        index_list.append(elem[0])"
   ]
  },
  {
   "cell_type": "code",
   "execution_count": 110,
   "metadata": {},
   "outputs": [],
   "source": [
    "dump_json = {}\n",
    "for i in loaded_json.keys():\n",
    "    new_dict = {}    \n",
    "    for j in index_list:\n",
    "        new_dict[j] = loaded_json[i][j]\n",
    "    dump_json[i] = new_dict"
   ]
  },
  {
   "cell_type": "code",
   "execution_count": 121,
   "metadata": {},
   "outputs": [],
   "source": [
    "with open('new_wines.json', 'w') as f:\n",
    "    json.dump(dump_json, f)"
   ]
  }
 ],
 "metadata": {
  "kernelspec": {
   "display_name": "Python 3",
   "language": "python",
   "name": "python3"
  },
  "language_info": {
   "codemirror_mode": {
    "name": "ipython",
    "version": 3
   },
   "file_extension": ".py",
   "mimetype": "text/x-python",
   "name": "python",
   "nbconvert_exporter": "python",
   "pygments_lexer": "ipython3",
   "version": "3.7.4"
  }
 },
 "nbformat": 4,
 "nbformat_minor": 2
}
